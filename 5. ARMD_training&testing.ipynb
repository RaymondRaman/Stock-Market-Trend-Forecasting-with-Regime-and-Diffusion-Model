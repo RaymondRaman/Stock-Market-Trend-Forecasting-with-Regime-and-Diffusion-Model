{
 "cells": [
  {
   "cell_type": "markdown",
   "id": "4b668c5a",
   "metadata": {},
   "source": [
    "### Adopted Diffusion Model: Auto-Regressive Moving Diffusion Models (ARMD)"
   ]
  },
  {
   "cell_type": "code",
   "execution_count": 1,
   "id": "d7c826fd",
   "metadata": {},
   "outputs": [
    {
     "name": "stdout",
     "output_type": "stream",
     "text": [
      "Note: you may need to restart the kernel to use updated packages.\n",
      "Training model with config: ./ARMD/Config/TSLA_armd_config_no_states.yaml\n",
      "Drop all columns that start with 'state'\n"
     ]
    },
    {
     "name": "stderr",
     "output_type": "stream",
     "text": [
      "loss: 7.407302: 100%|██████████| 2000/2000 [00:15<00:00, 133.17it/s]   \n",
      "sampling loop time step: 100%|██████████| 1/1 [00:00<00:00, 976.56it/s]\n"
     ]
    },
    {
     "name": "stdout",
     "output_type": "stream",
     "text": [
      "training complete\n",
      "Drop all columns that start with 'state'\n",
      "Results for (not including states data) features:\n",
      "MSE (Stock Price): 1.132350022228318\n",
      "MAE (Stock Price): 0.8452240774202873\n"
     ]
    },
    {
     "data": {
      "text/plain": [
       "CompletedProcess(args=['python', './ARMD/main.py', '--config', './ARMD/Config/TSLA_armd_config_no_states.yaml', '--state', 'false', '--stock_ticker', 'TSLA'], returncode=0)"
      ]
     },
     "execution_count": 1,
     "metadata": {},
     "output_type": "execute_result"
    }
   ],
   "source": [
    "import os\n",
    "import subprocess\n",
    "%pip install -r ./ARMD/requirements.txt >> /dev/null\n",
    "\n",
    "config_dir = \"./ARMD/Config\"\n",
    "curr_stock = \"TSLA\"\n",
    "\n",
    "# Train the model with the config file that has no states\n",
    "# need to manually set read_data function with_states = False, temporary fix\n",
    "config_file_with_states = f'{curr_stock}_armd_config_no_states.yaml'\n",
    "config_path = os.path.join(config_dir, config_file_with_states)\n",
    "print(f\"Training model with config: {config_path}\")\n",
    "# Call the training script with the config file\n",
    "subprocess.run([\"python\", \"./ARMD/main.py\", \"--config\", config_path, \"--state\", \"false\", \"--stock_ticker\", curr_stock])"
   ]
  },
  {
   "cell_type": "code",
   "execution_count": 4,
   "id": "2036eab6",
   "metadata": {},
   "outputs": [
    {
     "name": "stdout",
     "output_type": "stream",
     "text": [
      "Training model with config: ./ARMD/Config/TSLA_armd_config.yaml\n"
     ]
    },
    {
     "name": "stderr",
     "output_type": "stream",
     "text": [
      "loss: 0.000170: 100%|██████████| 2000/2000 [00:27<00:00, 73.05it/s]   \n"
     ]
    },
    {
     "name": "stdout",
     "output_type": "stream",
     "text": [
      "training complete\n"
     ]
    },
    {
     "name": "stderr",
     "output_type": "stream",
     "text": [
      "sampling loop time step: 100%|██████████| 1/1 [00:00<00:00, 696.84it/s]\n"
     ]
    },
    {
     "name": "stdout",
     "output_type": "stream",
     "text": [
      "Results for (including states data) features:\n",
      "MSE (Stock Price): 1.2031817857515639\n",
      "MAE (Stock Price): 0.878805049948701\n"
     ]
    },
    {
     "data": {
      "text/plain": [
       "CompletedProcess(args=['python', './ARMD/main.py', '--config', './ARMD/Config/TSLA_armd_config.yaml', '--state', 'true', '--stock_ticker', 'TSLA'], returncode=0)"
      ]
     },
     "execution_count": 4,
     "metadata": {},
     "output_type": "execute_result"
    }
   ],
   "source": [
    "# Train the model with the config file that has states\n",
    "config_file_with_states = f'{curr_stock}_armd_config.yaml'\n",
    "config_path = os.path.join(config_dir, config_file_with_states)\n",
    "print(f\"Training model with config: {config_path}\")\n",
    "# Call the training script with the config file\n",
    "subprocess.run([\"python\", \"./ARMD/main.py\", \"--config\", config_path, \"--state\", \"true\", \"--stock_ticker\", curr_stock])"
   ]
  }
 ],
 "metadata": {
  "kernelspec": {
   "display_name": "Python 3",
   "language": "python",
   "name": "python3"
  },
  "language_info": {
   "codemirror_mode": {
    "name": "ipython",
    "version": 3
   },
   "file_extension": ".py",
   "mimetype": "text/x-python",
   "name": "python",
   "nbconvert_exporter": "python",
   "pygments_lexer": "ipython3",
   "version": "3.9.1"
  }
 },
 "nbformat": 4,
 "nbformat_minor": 5
}
