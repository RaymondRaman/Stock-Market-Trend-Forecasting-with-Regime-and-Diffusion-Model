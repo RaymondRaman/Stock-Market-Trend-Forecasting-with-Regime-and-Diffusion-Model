{
 "cells": [
  {
   "cell_type": "markdown",
   "id": "4b668c5a",
   "metadata": {},
   "source": [
    "### Adopted Diffusion Model: Auto-Regressive Moving Diffusion Models (ARMD)"
   ]
  },
  {
   "cell_type": "code",
   "execution_count": 1,
   "id": "d7c826fd",
   "metadata": {},
   "outputs": [
    {
     "name": "stdout",
     "output_type": "stream",
     "text": [
      "\n",
      "\u001b[1m[\u001b[0m\u001b[34;49mnotice\u001b[0m\u001b[1;39;49m]\u001b[0m\u001b[39;49m A new release of pip is available: \u001b[0m\u001b[31;49m24.1.2\u001b[0m\u001b[39;49m -> \u001b[0m\u001b[32;49m25.1.1\u001b[0m\n",
      "\u001b[1m[\u001b[0m\u001b[34;49mnotice\u001b[0m\u001b[1;39;49m]\u001b[0m\u001b[39;49m To update, run: \u001b[0m\u001b[32;49mpython3.10 -m pip install --upgrade pip\u001b[0m\n",
      "Note: you may need to restart the kernel to use updated packages.\n",
      "\n",
      "\u001b[1m[\u001b[0m\u001b[34;49mnotice\u001b[0m\u001b[1;39;49m]\u001b[0m\u001b[39;49m A new release of pip is available: \u001b[0m\u001b[31;49m24.1.2\u001b[0m\u001b[39;49m -> \u001b[0m\u001b[32;49m25.1.1\u001b[0m\n",
      "\u001b[1m[\u001b[0m\u001b[34;49mnotice\u001b[0m\u001b[1;39;49m]\u001b[0m\u001b[39;49m To update, run: \u001b[0m\u001b[32;49mpython3.10 -m pip install --upgrade pip\u001b[0m\n",
      "Note: you may need to restart the kernel to use updated packages.\n",
      "\n",
      "\u001b[1m[\u001b[0m\u001b[34;49mnotice\u001b[0m\u001b[1;39;49m]\u001b[0m\u001b[39;49m A new release of pip is available: \u001b[0m\u001b[31;49m24.1.2\u001b[0m\u001b[39;49m -> \u001b[0m\u001b[32;49m25.1.1\u001b[0m\n",
      "\u001b[1m[\u001b[0m\u001b[34;49mnotice\u001b[0m\u001b[1;39;49m]\u001b[0m\u001b[39;49m To update, run: \u001b[0m\u001b[32;49mpython3.10 -m pip install --upgrade pip\u001b[0m\n",
      "Note: you may need to restart the kernel to use updated packages.\n",
      "Training model with config: ./ARMD/Config/GOOGL_armd_config_no_states.yaml\n"
     ]
    },
    {
     "name": "stderr",
     "output_type": "stream",
     "text": [
      "/opt/homebrew/lib/python3.10/site-packages/gluonts/json.py:101: UserWarning: Using `json`-module for json-handling. Consider installing one of `orjson`, `ujson` to speed up serialization and deserialization.\n",
      "  warnings.warn(\n",
      "loss: 0.000948: 100%|██████████| 2000/2000 [00:25<00:00, 79.98it/s]   \n"
     ]
    },
    {
     "name": "stdout",
     "output_type": "stream",
     "text": [
      "training complete\n"
     ]
    },
    {
     "name": "stderr",
     "output_type": "stream",
     "text": [
      "sampling loop time step: 100%|██████████| 1/1 [00:00<00:00, 175.46it/s]\n"
     ]
    },
    {
     "name": "stdout",
     "output_type": "stream",
     "text": [
      "Results for (not including states data) features:\n",
      "MSE (Stock Price): 1.0166925779385698\n",
      "MAE (Stock Price): 0.9642756368463572\n"
     ]
    },
    {
     "data": {
      "text/plain": [
       "CompletedProcess(args=['python3.10', './ARMD/main.py', '--config', './ARMD/Config/GOOGL_armd_config_no_states.yaml', '--state', 'false', '--stock_ticker', 'GOOGL'], returncode=0)"
      ]
     },
     "execution_count": 1,
     "metadata": {},
     "output_type": "execute_result"
    }
   ],
   "source": [
    "import os\n",
    "import subprocess\n",
    "%pip install torch > /dev/null\n",
    "%pip install pyyaml > /dev/null\n",
    "%pip install -r ./ARMD/requirements.txt >> /dev/null\n",
    "\n",
    "config_dir = \"./ARMD/Config\"\n",
    "curr_stock = \"GOOGL\"\n",
    "\n",
    "# Train the model with the config file that has no states\n",
    "# need to manually set read_data function with_states = False, temporary fix\n",
    "config_file_with_states = f'{curr_stock}_armd_config_no_states.yaml'\n",
    "config_path = os.path.join(config_dir, config_file_with_states)\n",
    "print(f\"Training model with config: {config_path}\")\n",
    "# Call the training script with the config file\n",
    "subprocess.run([\"python3.10\", \"./ARMD/main.py\", \"--config\", config_path, \"--state\", \"false\", \"--stock_ticker\", curr_stock])"
   ]
  },
  {
   "cell_type": "code",
   "execution_count": 2,
   "id": "2036eab6",
   "metadata": {},
   "outputs": [
    {
     "name": "stdout",
     "output_type": "stream",
     "text": [
      "Training model with config: ./ARMD/Config/GOOGL_armd_config.yaml\n"
     ]
    },
    {
     "name": "stderr",
     "output_type": "stream",
     "text": [
      "/opt/homebrew/lib/python3.10/site-packages/gluonts/json.py:101: UserWarning: Using `json`-module for json-handling. Consider installing one of `orjson`, `ujson` to speed up serialization and deserialization.\n",
      "  warnings.warn(\n",
      "loss: 6.262284: 100%|██████████| 2000/2000 [00:33<00:00, 59.91it/s]   \n"
     ]
    },
    {
     "name": "stdout",
     "output_type": "stream",
     "text": [
      "training complete\n"
     ]
    },
    {
     "name": "stderr",
     "output_type": "stream",
     "text": [
      "sampling loop time step: 100%|██████████| 1/1 [00:00<00:00, 996.04it/s]\n"
     ]
    },
    {
     "name": "stdout",
     "output_type": "stream",
     "text": [
      "Results for (including states data) features:\n",
      "MSE (Stock Price): 1.0004919839409272\n",
      "MAE (Stock Price): 0.9571550591281491\n"
     ]
    },
    {
     "data": {
      "text/plain": [
       "CompletedProcess(args=['python3.10', './ARMD/main.py', '--config', './ARMD/Config/GOOGL_armd_config.yaml', '--state', 'true', '--stock_ticker', 'GOOGL'], returncode=0)"
      ]
     },
     "execution_count": 2,
     "metadata": {},
     "output_type": "execute_result"
    }
   ],
   "source": [
    "# Train the model with the config file that has states\n",
    "config_file_with_states = f'{curr_stock}_armd_config.yaml'\n",
    "config_path = os.path.join(config_dir, config_file_with_states)\n",
    "print(f\"Training model with config: {config_path}\")\n",
    "# Call the training script with the config file\n",
    "subprocess.run([\"python3.10\", \"./ARMD/main.py\", \"--config\", config_path, \"--state\", \"true\", \"--stock_ticker\", curr_stock])"
   ]
  }
 ],
 "metadata": {
  "kernelspec": {
   "display_name": "Python 3",
   "language": "python",
   "name": "python3"
  },
  "language_info": {
   "codemirror_mode": {
    "name": "ipython",
    "version": 3
   },
   "file_extension": ".py",
   "mimetype": "text/x-python",
   "name": "python",
   "nbconvert_exporter": "python",
   "pygments_lexer": "ipython3",
   "version": "3.10.14"
  }
 },
 "nbformat": 4,
 "nbformat_minor": 5
}
